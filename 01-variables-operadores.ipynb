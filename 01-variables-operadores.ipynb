{
 "cells": [
  {
   "cell_type": "markdown",
   "metadata": {},
   "source": [
    "### Recopilación y muestra de datos"
   ]
  },
  {
   "cell_type": "markdown",
   "metadata": {},
   "source": [
    "#### 1 - Crea un programa que solicite al usuario que escriba su nombre y luego imprima \"Hola, [nombre].\""
   ]
  },
  {
   "cell_type": "code",
   "execution_count": null,
   "metadata": {},
   "outputs": [],
   "source": [
    "nombre = input('Ingrese su nombre')\n",
    "print('Hola,' + nombre)"
   ]
  },
  {
   "cell_type": "markdown",
   "metadata": {},
   "source": [
    "#### 2 - Crea un programa que solicite al usuario que escriba su nombre y edad, y luego imprima \"Hola, [nombre], tienes [edad] años.\""
   ]
  },
  {
   "cell_type": "code",
   "execution_count": null,
   "metadata": {},
   "outputs": [],
   "source": [
    "usuario_nombre = input('Ingrese su nombre')\n",
    "usuario_edad = int(input('Ingrese su edad'))\n",
    "print('Hola, '+ usuario_nombre + ' tienes ' + str(usuario_edad) + ' años')"
   ]
  },
  {
   "cell_type": "markdown",
   "metadata": {},
   "source": [
    "#### 3 - Crea un programa que solicite al usuario que escriba su nombre, edad y altura en metros, y luego imprima \"Hola, [nombre], tienes [edad] años y mides [altura] metros.\""
   ]
  },
  {
   "cell_type": "code",
   "execution_count": null,
   "metadata": {},
   "outputs": [],
   "source": [
    "nombre_input = input('Ingrese su nombre')\n",
    "edad_input = int(input('Ingrese su edad'))\n",
    "altura_input = float(input('Cuanto mides'))\n",
    "\n",
    "# Mostrar los resultados utilizando concatenación\n",
    "print('Hola, ' + nombre_input + ' tienes ' + str(edad_input) + ' años y mides ' + str(altura_input) + ' metros.')\n",
    "\n",
    "# Mostrar los resultados utilizando f-string (recomendado)\n",
    "print(f'Hola, {nombre_input} tienes {edad_input} años y mides {altura_input} metros.')"
   ]
  },
  {
   "cell_type": "markdown",
   "metadata": {},
   "source": [
    "### Calculadora con operadores"
   ]
  },
  {
   "cell_type": "markdown",
   "metadata": {},
   "source": [
    "#### 4 - Crea un programa que solicite dos valores numéricos al usuario y luego imprima la suma de ambos valores."
   ]
  },
  {
   "cell_type": "code",
   "execution_count": null,
   "metadata": {},
   "outputs": [],
   "source": [
    "num_1 = int(input('Ingrese un numero entero'))\n",
    "num_2 = int(input('Ingrese un segundo numero entero'))\n",
    "print(num_1+ num_2)"
   ]
  },
  {
   "cell_type": "markdown",
   "metadata": {},
   "source": [
    "#### 5 - Crea un programa que solicite tres valores numéricos al usuario y luego imprima la suma de los tres valores."
   ]
  },
  {
   "cell_type": "code",
   "execution_count": null,
   "metadata": {},
   "outputs": [],
   "source": [
    "print('Ingresar 3 valores enteros numéricos')\n",
    "valor_1 = int(input('Ingrese el primer valor'))\n",
    "valor_2 = int(input('Ingrese el segundo valor'))\n",
    "valor_3 = int(input('Ingrese el tercer valor'))\n",
    "\n",
    "valor_total = valor_1 + valor_2 + valor_3\n",
    "print(f'Total de la suma es: {valor_total}')"
   ]
  },
  {
   "cell_type": "markdown",
   "metadata": {},
   "source": [
    "#### 6 - Crea un programa que solicite dos valores numéricos al usuario y luego imprima la resta del primero menos el segundo valor."
   ]
  },
  {
   "cell_type": "code",
   "execution_count": null,
   "metadata": {},
   "outputs": [],
   "source": [
    "resta_1 = int(input('Ingrese el primer valor numérico'))\n",
    "resta_2 = int(input('Ingrese el segundo valor numérico'))\n",
    "\n",
    "resultado = resta_1 - resta_2\n",
    "\n",
    "# Mostrar el resultado usando concatenación\n",
    "print('Resultado de la resta es: ' + str(resultado))\n",
    "\n",
    "# Mostrar el resultado usando f-string (recomendado)\n",
    "print(f'Resultado de la resta es: {resultado}')"
   ]
  },
  {
   "cell_type": "markdown",
   "metadata": {},
   "source": [
    "#### 7 - Crea un programa que solicite dos valores numéricos al usuario y luego imprima la multiplicación de los dos valores."
   ]
  },
  {
   "cell_type": "code",
   "execution_count": null,
   "metadata": {},
   "outputs": [],
   "source": [
    "multiplicando = int(input('Ingresar el primer valor numérico'))\n",
    "multiplicador = int(input('Ingresar el segundo valor numérico'))\n",
    "\n",
    "resultado = multiplicando * multiplicador\n",
    "print(f'Resultado de la multiplicación es: {resultado}')"
   ]
  },
  {
   "cell_type": "markdown",
   "metadata": {},
   "source": [
    "#### 8 - Crea un programa que solicite dos valores numéricos, un numerador y un denominador, y realice la división entre los dos valores. Asegúrate de que el valor del denominador no sea igual a 0."
   ]
  },
  {
   "cell_type": "code",
   "execution_count": null,
   "metadata": {},
   "outputs": [],
   "source": [
    "numerador = int(input('Ingrese un numero entero positivo mayor que 0'))\n",
    "denominador = int(input(\"Ingrese un segundo numero entero posito mayor que 0\"))\n",
    "division = numerador / denominador\n",
    "\n",
    "print(f'resultado de la división es: {division}')"
   ]
  },
  {
   "cell_type": "markdown",
   "metadata": {},
   "source": [
    "#### 9 - Crea un programa que solicite dos valores numéricos, un operador y una potencia, y realice la exponenciación entre estos dos valores."
   ]
  },
  {
   "cell_type": "code",
   "execution_count": null,
   "metadata": {},
   "outputs": [],
   "source": [
    "operador = int(input('Ingrasar un numero'))\n",
    "potencia = int(input('Ingresar un segundo numero'))\n",
    "resultado = operador ** potencia\n",
    "\n",
    "print(f'Resultado es: {resultado}')"
   ]
  },
  {
   "cell_type": "markdown",
   "metadata": {},
   "source": [
    "#### 10 - Crea un programa que solicite dos valores numéricos, un numerador y un denominador, y realice la división entera entre los dos valores. Asegúrate de que el valor del denominador no sea igual a 0."
   ]
  },
  {
   "cell_type": "code",
   "execution_count": null,
   "metadata": {},
   "outputs": [],
   "source": [
    "numerador_1 = int(input('Ingrese un numero entero'))\n",
    "denominador_1 = int(input('Ingrese un segundo numero'))\n",
    "\n",
    "division_1 =  numerador_1 // denominador_1\n",
    "\n",
    "print(f'resultado de la división entera es: {division_1}')"
   ]
  },
  {
   "cell_type": "markdown",
   "metadata": {},
   "source": [
    "#### 11 - Crea un programa que solicite dos valores numéricos, un numerador y un denominador, y devuelva el resto de la división entre los dos valores. Asegúrate de que el valor del denominador no sea igual a 0."
   ]
  },
  {
   "cell_type": "code",
   "execution_count": null,
   "metadata": {},
   "outputs": [],
   "source": [
    "numerador_2 = int(input('Ingrese un numero entero distinto a cero'))\n",
    "denominador_2 = int(input('Ingrese un segundo numero entero distinto a cero'))\n",
    "\n",
    "resto =  numerador_2 % denominador_2\n",
    "\n",
    "print(f'El resto de la división es: {resto}')\n",
    "\n"
   ]
  },
  {
   "cell_type": "markdown",
   "metadata": {},
   "source": [
    "#### 12 - Crea un código que solicite las 3 notas de un estudiante e imprima el promedio de las notas."
   ]
  },
  {
   "cell_type": "code",
   "execution_count": null,
   "metadata": {},
   "outputs": [],
   "source": [
    "print('*********************************')\n",
    "print('* Calculadora de promedio notas *')\n",
    "print('*********************************')\n",
    "\n",
    "nota_1 = float(input('Ingrese primera nota'))\n",
    "nota_2 = float(input('Ingrese segunda nota'))\n",
    "nota_3 = float(input('Ingrese tercera nota'))\n",
    "\n",
    "promedio = (nota_1 + nota_2 + nota_3) / 3\n",
    "\n",
    "print(f'El promedio es: {promedio}')"
   ]
  },
  {
   "cell_type": "markdown",
   "metadata": {},
   "source": [
    "#### 13 - Crea un código que calcule e imprima el promedio ponderado de los números 5, 12, 20 y 15 con pesos respectivamente iguales a 1, 2, 3 y 4."
   ]
  },
  {
   "cell_type": "code",
   "execution_count": null,
   "metadata": {},
   "outputs": [],
   "source": [
    "print('*************************************')\n",
    "print('* Calculadora de promedio ponderado *')\n",
    "print('*************************************')\n",
    "\n",
    "ponderado = (5*1+ 12*2 + 20*3 + 15*4)/(1+2+3+4)\n",
    "print(f'resultado del promedio ponderado es: {ponderado}')"
   ]
  },
  {
   "cell_type": "markdown",
   "metadata": {},
   "source": [
    "### Editando textos"
   ]
  },
  {
   "cell_type": "markdown",
   "metadata": {},
   "source": [
    "#### 14 - Crea una variable llamada \"frase\" y asígnale una cadena de texto de tu elección. Luego, imprime la frase en pantalla."
   ]
  },
  {
   "cell_type": "code",
   "execution_count": null,
   "metadata": {},
   "outputs": [],
   "source": [
    "frase = 'Hello World'\n",
    "print(frase)"
   ]
  },
  {
   "cell_type": "markdown",
   "metadata": {},
   "source": [
    "#### 15 - Crea un código que solicite una frase y luego imprima la frase en pantalla."
   ]
  },
  {
   "cell_type": "code",
   "execution_count": null,
   "metadata": {},
   "outputs": [],
   "source": [
    "solicitar_frase = input('Ingrese una frase a su gusto')\n",
    "print(solicitar_frase)"
   ]
  },
  {
   "cell_type": "markdown",
   "metadata": {},
   "source": [
    "#### 16 - Crea un código que solicite una frase al usuario y luego imprima la misma frase ingresada pero en mayúsculas."
   ]
  },
  {
   "cell_type": "code",
   "execution_count": null,
   "metadata": {},
   "outputs": [],
   "source": [
    "solicitar_frase_2 = (input(\"Ingrese una frase de su elección\"))\n",
    "print(f'La frase en mayuscula es: {solicitar_frase_2.upper()}')"
   ]
  },
  {
   "cell_type": "markdown",
   "metadata": {},
   "source": [
    "#### 17 - Crea un código que solicite una frase al usuario y luego imprima la misma frase ingresada pero en minúsculas."
   ]
  },
  {
   "cell_type": "code",
   "execution_count": null,
   "metadata": {},
   "outputs": [],
   "source": [
    "solicitar_frase_3 =(input(\"Ingrese una frase de su elección\"))\n",
    "print(f'La frase trasnformada a minuscula es: {solicitar_frase_3.lower()}')"
   ]
  },
  {
   "cell_type": "markdown",
   "metadata": {},
   "source": [
    "#### 18 - Crea una variable llamada \"frase\" y asígnale una cadena de texto de tu elección. Luego, imprime la frase sin espacios en blanco al principio y al final."
   ]
  },
  {
   "cell_type": "code",
   "execution_count": null,
   "metadata": {},
   "outputs": [],
   "source": [
    "frase = \"  Esta es una frase  \"\n",
    "\n",
    "print(f'Frase sin espacio al inicio ni al final: \\n{frase.strip()}')\n",
    "\n"
   ]
  },
  {
   "cell_type": "markdown",
   "metadata": {},
   "source": [
    "#### 19 - Crea un código que solicite una frase al usuario y luego imprima la misma frase sin espacios en blanco al principio y al final."
   ]
  },
  {
   "cell_type": "code",
   "execution_count": null,
   "metadata": {},
   "outputs": [],
   "source": [
    "# Solicitar una frase al usuario\n",
    "solicitar_frase_4 = input('Ingresar una frase agregandole espacio al inicio y al final: ')\n",
    "\n",
    "# Resultado frase con espacios al inicio y al final\n",
    "print(f'Frase con espacio al inicio y al final: \\n{frase}')\n",
    "\n",
    "# Imprimir un salto de línea para separar las salidas\n",
    "print('')\n",
    "\n",
    "# Resultado utilizando strip()\n",
    "print(f'Frase sin espacio al inicio ni al final: \\n{frase.strip()}')"
   ]
  },
  {
   "cell_type": "markdown",
   "metadata": {},
   "source": [
    "#### 20 - Crea un código que solicite una frase al usuario y luego imprima la misma frase sin espacios en blanco al principio y al final, además de convertirla a minúsculas."
   ]
  },
  {
   "cell_type": "code",
   "execution_count": null,
   "metadata": {},
   "outputs": [],
   "source": [
    "frase_input = input('Ingrese una frase: ')\n",
    "print(frase_input.lower().strip())"
   ]
  },
  {
   "cell_type": "markdown",
   "metadata": {},
   "source": [
    "#### 21 - Crea un código que solicite una frase al usuario y luego imprima la misma frase con todas las vocales \"e\" reemplazadas por la letra \"f\"."
   ]
  },
  {
   "cell_type": "code",
   "execution_count": null,
   "metadata": {},
   "outputs": [],
   "source": [
    "frase_2 = input('Ingrese una frase: ')\n",
    "print(frase_2.replace(\"e\", \"f\"))"
   ]
  },
  {
   "cell_type": "markdown",
   "metadata": {},
   "source": [
    "#### 22 - Crea un código que solicite una frase al usuario y luego imprima la misma frase con todas las vocales \"a\" reemplazadas por el carácter \"@\"."
   ]
  },
  {
   "cell_type": "code",
   "execution_count": null,
   "metadata": {},
   "outputs": [],
   "source": [
    "frase_3 = input('Ingrese una frase: ')\n",
    "print(frase_3.replace(\"a\",\"@\"))"
   ]
  },
  {
   "cell_type": "markdown",
   "metadata": {},
   "source": [
    "#### 23 - Crea un código que solicite una frase al usuario y luego imprima la misma frase con todas las consonantes \"s\" reemplazadas por el carácter \"$\"."
   ]
  },
  {
   "cell_type": "code",
   "execution_count": null,
   "metadata": {},
   "outputs": [],
   "source": [
    "frase_4 = input('Ingrese una frase: ')\n",
    "print(frase_4.replace(\"s\",\"$\"))\n",
    "frase_4 = input('Ingrese una frase: ')\n",
    "print(frase_4.replace(\"s\",\"$\"))"
   ]
  }
 ],
 "metadata": {
  "kernelspec": {
   "display_name": "Python 3",
   "language": "python",
   "name": "python3"
  },
  "language_info": {
   "codemirror_mode": {
    "name": "ipython",
    "version": 3
   },
   "file_extension": ".py",
   "mimetype": "text/x-python",
   "name": "python",
   "nbconvert_exporter": "python",
   "pygments_lexer": "ipython3",
   "version": "3.13.2"
  }
 },
 "nbformat": 4,
 "nbformat_minor": 2
}
